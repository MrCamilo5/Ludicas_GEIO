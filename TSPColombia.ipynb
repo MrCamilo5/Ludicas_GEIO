{
  "nbformat": 4,
  "nbformat_minor": 0,
  "metadata": {
    "colab": {
      "name": "TSPColombia.ipynb",
      "provenance": [],
      "private_outputs": true,
      "mount_file_id": "1EreUd3pShPM2iGH1-D8E-qfUstFC_1A1",
      "authorship_tag": "ABX9TyNocKnkWKkDv/JdV0JhtAwS",
      "include_colab_link": true
    },
    "kernelspec": {
      "name": "python3",
      "display_name": "Python 3"
    }
  },
  "cells": [
    {
      "cell_type": "markdown",
      "metadata": {
        "id": "view-in-github",
        "colab_type": "text"
      },
      "source": [
        "<a href=\"https://colab.research.google.com/github/MrCamilo5/Ludicas_GEIO/blob/master/TSPColombia.ipynb\" target=\"_parent\"><img src=\"https://colab.research.google.com/assets/colab-badge.svg\" alt=\"Open In Colab\"/></a>"
      ]
    },
    {
      "cell_type": "markdown",
      "metadata": {
        "id": "casaflvf1vYL",
        "colab_type": "text"
      },
      "source": [
        "# Metodo Exacto"
      ]
    },
    {
      "cell_type": "code",
      "metadata": {
        "id": "itg0RltgL762",
        "colab_type": "code",
        "colab": {}
      },
      "source": [
        "!pip install docplex\n",
        "!pip install cplex"
      ],
      "execution_count": 0,
      "outputs": []
    },
    {
      "cell_type": "code",
      "metadata": {
        "id": "JP24CrurL6r5",
        "colab_type": "code",
        "colab": {}
      },
      "source": [
        "from docplex.mp.model import Model\n",
        "tsp=Model('TSPColombia')"
      ],
      "execution_count": 0,
      "outputs": []
    },
    {
      "cell_type": "code",
      "metadata": {
        "id": "ZaeVWk8NQabS",
        "colab_type": "code",
        "colab": {}
      },
      "source": [
        "n=4\n",
        "#VARIABLES \n",
        "ciudades=tsp.binary_var_matrix([i for i in range(n)], [j for j in range(n)])\n",
        "mu=tsp.continuous_var_dict([i for i in range(n)])\n",
        "#FO\n",
        "for i in range(n):\n",
        "  for j in range(n):\n",
        "    tsp.maximize(tsp.sum(ciudades[i,j]*d[i][j]))"
      ],
      "execution_count": 0,
      "outputs": []
    },
    {
      "cell_type": "code",
      "metadata": {
        "id": "0ZnN0Q7lzeSt",
        "colab_type": "code",
        "colab": {}
      },
      "source": [
        "#STO\n",
        "\n",
        "#Para todo j\n",
        "for j in range(n):\n",
        "  tsp.add_constraint(tsp.sum(ciudades[i,j] for i in range(n) if i !=j )==1)\n",
        "\n",
        "#Para todo i\n",
        "for i in range(n):\n",
        "  tsp.add_constraint(tsp.sum(ciudades[i,j] for j in range(n) if j !=i )==1)\n",
        "\n",
        "#Restricciones logicas\n",
        "\n",
        "for i in range(n):\n",
        "  for j in range(n):\n",
        "    if i != j:\n",
        "      tsp.add_constraint(mu[i]-mu[j]+n*ciudades[i,j]<= n-1)\n",
        "\n",
        "for i in range(2,n):\n",
        "  tsp.add_constraint(mu[i]<=n-1)\n",
        "# uniform([-1,1]).rvs()"
      ],
      "execution_count": 0,
      "outputs": []
    },
    {
      "cell_type": "code",
      "metadata": {
        "id": "yM5zgJUK26wN",
        "colab_type": "code",
        "colab": {}
      },
      "source": [
        "solucion = tsp.solve(log_output=True)"
      ],
      "execution_count": 0,
      "outputs": []
    },
    {
      "cell_type": "code",
      "metadata": {
        "id": "7cl8oJI33PqS",
        "colab_type": "code",
        "colab": {}
      },
      "source": [
        "import numpy as np\n",
        "import scipy.stats as ss\n",
        "import matplotlib.pyplot as plt\n",
        "def circulo(x):\n",
        "  return np.sqrt(1-x**2) , -np.sqrt(1-x**2)\n",
        "n=1000000\n",
        "x , y = np.random.uniform(-1,1,n) , np.random.uniform(-1,1,n)\n",
        "r=np.hypot(x,y)\n",
        "gg=np.where(r<=1, 1, 0)\n",
        "4*(np.sum(gg)/r.shape[0])"
      ],
      "execution_count": 0,
      "outputs": []
    },
    {
      "cell_type": "markdown",
      "metadata": {
        "id": "YnLQAuC8jPu4",
        "colab_type": "text"
      },
      "source": [
        "# Algoritmo Genetico"
      ]
    },
    {
      "cell_type": "code",
      "metadata": {
        "id": "C1DKO9PHK_p8",
        "colab_type": "code",
        "colab": {}
      },
      "source": [
        "import pandas as pd\n",
        "import numpy as np\n",
        "from scipy.stats import norm, uniform\n",
        "datos=pd.read_csv('/content/drive/My Drive/colcoor/coordenadas.csv', decimal=',')\n",
        "X ,Y =datos.iloc[:,0], datos.iloc[:,1]\n",
        "d=np.zeros([X.shape[0], X.shape[0]])\n",
        "\n",
        "for i in range(X.shape[0]):\n",
        "    for j in range(X.shape[0]):\n",
        "        d[i][j]= np.sqrt((X[i] - X[j])**2 + (Y[i] - Y[j])**2)\n"
      ],
      "execution_count": 0,
      "outputs": []
    },
    {
      "cell_type": "code",
      "metadata": {
        "id": "i7KI3bifowPE",
        "colab_type": "code",
        "colab": {}
      },
      "source": [
        "import matplotlib.pyplot as plt\n",
        "plt.figure(figsize=(8,8))\n",
        "plt.title('Mapa de Colombia')\n",
        "plt.scatter(X,Y)"
      ],
      "execution_count": 0,
      "outputs": []
    },
    {
      "cell_type": "code",
      "metadata": {
        "id": "3ccJXMWSkyDK",
        "colab_type": "code",
        "colab": {}
      },
      "source": [
        "pob=np.zeros([70,86]).reshape(70,86)\n",
        "for i in range(70):\n",
        "  pob[i]=np.random.choice(np.linspace(0,85,86),86,replace=False)"
      ],
      "execution_count": 0,
      "outputs": []
    },
    {
      "cell_type": "code",
      "metadata": {
        "id": "hX4HP3Sdkbri",
        "colab_type": "code",
        "colab": {}
      },
      "source": [
        "# pob[np.where(fo==np.min(fo))[0][0]]\n",
        "\n",
        "np.sort(fo)[0], np.sort(fo)[1]"
      ],
      "execution_count": 0,
      "outputs": []
    },
    {
      "cell_type": "code",
      "metadata": {
        "id": "O0VbtdULqn94",
        "colab_type": "code",
        "colab": {}
      },
      "source": [
        "gg=0\n",
        "for i in pob[np.where(fo==np.sort(fo)[0])[0][0]].reshape(2,43)[0]:\n",
        "  if i in pob[np.where(fo==np.sort(fo)[1])[0][0]].reshape(2,43)[1]:\n",
        "    gg+=1\n",
        "  else:\n",
        "    pass\n",
        "gg\n"
      ],
      "execution_count": 0,
      "outputs": []
    },
    {
      "cell_type": "code",
      "metadata": {
        "id": "Dh6M335HwbGd",
        "colab_type": "code",
        "colab": {}
      },
      "source": [
        "\n",
        "#Funcion objetivo\n",
        "fo=np.zeros(70)\n",
        "\n",
        "\n",
        "for i in range(70):\n",
        "  for j in range(85):\n",
        "    fo[i]+=d[int(pob[i][j])][int(pob[i][j+1])]\n",
        "\n",
        "\n",
        "##Padres\n",
        "padres=np.zeros([36,86]).reshape(36,86)\n",
        "for i in range(36):\n",
        "  padres[i]=pob[np.random.choice(70)]\n",
        "\n",
        "h=np.zeros([18,86]).reshape(18,86)\n",
        "#Probabilidad de cruz 0.9\n",
        "#En proceso :c \n",
        "\n",
        "##Ingreso los hijos\n",
        "for i,j in zip(h,range(51,69)):\n",
        "  pob[np.where(fo==np.sort(fo)[j])[0][0]]=i\n",
        "\n",
        "##Mutación del menos apto :3\n",
        "if np.random.randn()< 0.3:\n",
        "  pob[np.where(fo==np.max(fo))[0][0],:43]=np.random.choice(pob[np.where(fo==np.max(fo))[0][0],:43],43,replace=False)\n"
      ],
      "execution_count": 0,
      "outputs": []
    }
  ]
}